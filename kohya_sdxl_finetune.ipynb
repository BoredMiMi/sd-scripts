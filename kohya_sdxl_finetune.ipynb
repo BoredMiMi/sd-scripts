{
  "cells": [
    {
      "cell_type": "markdown",
      "metadata": {
        "id": "6u1nfLfgM9G6"
      },
      "source": [
        "# Kohya SDXL Fine‑Tune Notebook\n",
        "This Colab notebook fine‑tunes an SDXL model with [kohya‑ss/sd‑scripts](https://github.com/kohya-ss/sd-scripts).\n",
        "_Automatically instrumented for detailed debug logging as requested by Mikey._"
      ]
    },
    {
      "cell_type": "markdown",
      "metadata": {
        "id": "-bmTHnF0M9HR"
      },
      "source": [
        "### Clone kohya‑ss/sd‑scripts"
      ]
    },
    {
      "cell_type": "code",
      "metadata": {
        "id": "clone_repo",
        "colab": {
          "base_uri": "https://localhost:8080/",
          "height": 402
        },
        "outputId": "40634248-1ae8-497c-d784-0981c214ec60"
      },
      "source": [
        "# Install required libraries\n",
        "%cd /content\n",
        "!git clone https://github.com/kohya-ss/sd-scripts.git\n",
        "%cd sd-scripts\n",
        "!pip install -r requirements.txt\n"
      ],
      "execution_count": 9,
      "outputs": [
        {
          "output_type": "stream",
          "name": "stdout",
          "text": [
            "Cloning into '/content/sd-scripts'...\n",
            "remote: Enumerating objects: 10050, done.\u001b[K\n",
            "remote: Counting objects: 100% (91/91), done.\u001b[K\n",
            "remote: Compressing objects: 100% (53/53), done.\u001b[K\n",
            "remote: Total 10050 (delta 53), reused 55 (delta 37), pack-reused 9959 (from 4)\u001b[K\n",
            "Receiving objects: 100% (10050/10050), 11.95 MiB | 14.74 MiB/s, done.\n",
            "Resolving deltas: 100% (7193/7193), done.\n",
            "/content/sd-scripts\n",
            "Obtaining file:///content/sd-scripts\n",
            "  Preparing metadata (setup.py) ... \u001b[?25l\u001b[?25hdone\n",
            "Installing collected packages: library\n",
            "  Running setup.py develop for library\n",
            "Successfully installed library-0.0.0\n"
          ]
        },
        {
          "output_type": "error",
          "ename": "NameError",
          "evalue": "name 'log' is not defined",
          "traceback": [
            "\u001b[0;31m---------------------------------------------------------------------------\u001b[0m",
            "\u001b[0;31mNameError\u001b[0m                                 Traceback (most recent call last)",
            "\u001b[0;32m/tmp/ipython-input-9-3423924974.py\u001b[0m in \u001b[0;36m<cell line: 0>\u001b[0;34m()\u001b[0m\n\u001b[1;32m      6\u001b[0m \u001b[0mget_ipython\u001b[0m\u001b[0;34m(\u001b[0m\u001b[0;34m)\u001b[0m\u001b[0;34m.\u001b[0m\u001b[0msystem\u001b[0m\u001b[0;34m(\u001b[0m\u001b[0;34m'pip install -e .'\u001b[0m\u001b[0;34m)\u001b[0m\u001b[0;34m\u001b[0m\u001b[0;34m\u001b[0m\u001b[0m\n\u001b[1;32m      7\u001b[0m \u001b[0;34m\u001b[0m\u001b[0m\n\u001b[0;32m----> 8\u001b[0;31m \u001b[0mlog\u001b[0m\u001b[0;34m(\u001b[0m\u001b[0;34m\"✅ kohya-ss repo cloned and installed in editable mode.\"\u001b[0m\u001b[0;34m)\u001b[0m\u001b[0;34m\u001b[0m\u001b[0;34m\u001b[0m\u001b[0m\n\u001b[0m",
            "\u001b[0;31mNameError\u001b[0m: name 'log' is not defined"
          ]
        }
      ]
    },
    {
      "cell_type": "markdown",
      "metadata": {
        "id": "H_hLR4W4M9HU"
      },
      "source": [
        "## 2. Prepare Google Drive (optional)"
      ]
    },
    {
      "cell_type": "code",
      "metadata": {
        "id": "mount_drive"
      },
      "source": [
        "from google.colab import drive\n",
        "drive.mount('/content/drive')\n"
      ],
      "execution_count": null,
      "outputs": []
    },
    {
      "cell_type": "markdown",
      "metadata": {
        "id": "FQ7v7uRtM9HX"
      },
      "source": [
        "#  Set Training Paths\n"
      ]
    },
    {
      "cell_type": "code",
      "metadata": {
        "id": "hf_auth"
      },
      "source": [
        "import os",
        "",
        "# Define paths",
        "base_model_path = \"/content/drive/MyDrive/models/homosimileXLPony_v20ILXL.safetensors\"",
        "diff_model_path = \"/content/drive/MyDrive/models/homosimileXLPony_v20ILXL_diffusers\"",
        "dataset_dir = \"/content/drive/MyDrive/Loras/kmk/dataset\"",
        "output_dir = \"/content/drive/MyDrive/Loras/kmk/output\"",
        "logging_dir = \"/content/drive/MyDrive/Loras/kmk/logs\"",
        "cache_latents_dir = \"/content/drive/MyDrive/Loras/kmk/cache_latents\"",
        "",
        "# Make sure all folders exist",
        "os.makedirs(output_dir, exist_ok=True)",
        "os.makedirs(logging_dir, exist_ok=True)",
        "os.makedirs(cache_latents_dir, exist_ok=True)"
      ],
      "execution_count": null,
      "outputs": []
    },
    {
      "cell_type": "code",
      "metadata": {
        "id": "convert_ckpt"
      },
      "source": [
        "# Convert checkpoint to Diffusers format",
        "",
        "!python - <<'PY'\nimport os\nfrom library import sdxl_model_util\n\nckpt = base_model_path\noutput_dir = diff_model_path\nos.makedirs(output_dir, exist_ok=True)\nprint('Converting checkpoint to Diffusers format...')\ntext_encoder1, text_encoder2, vae, unet, _, _ = sdxl_model_util.load_models_from_sdxl_checkpoint(sdxl_model_util.MODEL_VERSION_SDXL_BASE_V1_0, ckpt, 'cpu')\nsdxl_model_util.save_diffusers_checkpoint(output_dir, text_encoder1, text_encoder2, unet, None, vae, use_safetensors=True)\nprint('Saved Diffusers model to', output_dir)\nPY"
      ],
      "execution_count": null,
      "outputs": []
    },
    {
      "cell_type": "markdown",
      "metadata": {
        "id": "usquRQcLM9HZ"
      },
      "source": [
        "# ✅  Prepare latents"
      ]
    },
    {
      "cell_type": "code",
      "metadata": {
        "id": "dl_model"
      },
      "source": [
        "# Optional speed boost: Cache latents\n",
        "!python tools/cache_latents.py \\\n",
        "  --vae batch \\\n",
        "  --batch_size 1 \\\n",
        "  --model_name_or_path=\"{diff_model_path}\" \\\\n",
        "  --data_dir=\"{dataset_dir}\" \\\n",
        "  --output_dir=\"{cache_latents_dir}\"\n"
      ],
      "execution_count": null,
      "outputs": []
    },
    {
      "cell_type": "markdown",
      "metadata": {
        "id": "lbrTsXdAM9Ha"
      },
      "source": [
        "#✅ start training\n"
      ]
    },
    {
      "cell_type": "code",
      "metadata": {
        "id": "cache_latents"
      },
      "source": [
        "!python sdxl_train_network.py \\\n",
        "  --pretrained_model_name_or_path=\"{diff_model_path}\" \\\\n",
        "  --train_data_dir=\"{dataset_dir}\" \\\n",
        "  --resolution=\"1024,1024\" \\\n",
        "  --output_dir=\"{output_dir}\" \\\n",
        "  --logging_dir=\"{logging_dir}\" \\\n",
        "  --output_name=\"kmk_sdxl_lora\" \\\n",
        "  --network_module=networks.lora \\\n",
        "  --network_dim=256 \\\n",
        "  --network_alpha=128 \\\n",
        "  --network_train_unet_only \\\n",
        "  --learning_rate=1e-4 \\\n",
        "  --lr_scheduler=\"cosine_with_restarts\" \\\n",
        "  --train_batch_size=1 \\\n",
        "  --max_train_steps=1500 \\\n",
        "  --save_every_n_steps=500 \\\n",
        "  --mixed_precision=\"fp16\" \\\n",
        "  --cache_latents \\\n",
        "  --cache_latents_to_disk \\\n",
        "  --cache_latents_dir=\"{cache_latents_dir}\" \\\n",
        "  --caption_extension=\".txt\" \\\n",
        "  --caption_dropout_rate=0.15 \\\n",
        "  --xformers\n"
      ],
      "execution_count": null,
      "outputs": []
    },
    {
      "cell_type": "markdown",
      "metadata": {
        "id": "4A9CuGhQM9Hb"
      },
      "source": [
        "#✅ Check outputs"
      ]
    },
    {
      "cell_type": "code",
      "metadata": {
        "id": "params"
      },
      "source": [
        "# Check output folder contents\n",
        "import os\n",
        "\n",
        "for f in os.listdir(output_dir):\n",
        "    print(f)\n"
      ],
      "execution_count": null,
      "outputs": []
    }
  ],
  "metadata": {
    "colab": {
      "provenance": []
    },
    "kernelspec": {
      "display_name": "Python 3",
      "name": "python3"
    }
  },
  "nbformat": 4,
  "nbformat_minor": 0
}
