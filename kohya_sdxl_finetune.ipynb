{
 "cells": [
  {
   "cell_type": "markdown",
   "metadata": {
    "id": "6u1nfLfgM9G6"
   },
   "source": [
    "# Kohya SDXL Fine\u2011Tune Notebook\n",
    "This Colab notebook fine\u2011tunes an SDXL model with [kohya\u2011ss/sd\u2011scripts](https://github.com/kohya-ss/sd-scripts).\n",
    "_Automatically instrumented for detailed debug logging as requested by Mikey._"
   ]
  },
  {
   "cell_type": "markdown",
   "metadata": {
    "id": "-bmTHnF0M9HR"
   },
   "source": [
    "### Clone kohya\u2011ss/sd\u2011scripts"
   ]
  },
  {
   "cell_type": "code",
   "metadata": {
    "id": "clone_repo",
    "colab": {
     "base_uri": "https://localhost:8080/",
     "height": 402
    },
    "outputId": "40634248-1ae8-497c-d784-0981c214ec60"
   },
   "source": [
    "# Install required libraries\n",
    "%cd /content\n",
    "!git clone https://github.com/kohya-ss/sd-scripts.git\n",
    "%cd sd-scripts\n",
    "!pip install -r requirements.txt\n",
    "print('\u2705 kohya-ss repo cloned and requirements installed.')\n"
   ],
   "execution_count": null,
   "outputs": []
  },
  {
   "cell_type": "markdown",
   "metadata": {
    "id": "H_hLR4W4M9HU"
   },
   "source": [
    "## 2. Prepare Google Drive (optional)"
   ]
  },
  {
   "cell_type": "code",
   "metadata": {
    "id": "mount_drive"
   },
   "source": [
    "from google.colab import drive\n",
    "drive.mount('/content/drive')\n"
   ],
   "execution_count": null,
   "outputs": []
  },
  {
   "cell_type": "markdown",
   "metadata": {
    "id": "FQ7v7uRtM9HX"
   },
   "source": [
    "#  Set Training Paths\n"
   ]
  },
  {
   "cell_type": "code",
   "metadata": {
    "id": "hf_auth"
   },
   "source": [
    "import os",
    "",
    "# Define paths",
    "base_model_path = \"/content/drive/MyDrive/models/homosimileXLPony_v20ILXL.safetensors\"",
    "diff_model_path = \"/content/drive/MyDrive/models/homosimileXLPony_v20ILXL_diffusers\"",
    "dataset_dir = \"/content/drive/MyDrive/Loras/kmk/dataset\"",
    "output_dir = \"/content/drive/MyDrive/Loras/kmk/output\"",
    "logging_dir = \"/content/drive/MyDrive/Loras/kmk/logs\"",
    "cache_latents_dir = \"/content/drive/MyDrive/Loras/kmk/cache_latents\"",
    "",
    "# Make sure all folders exist",
    "os.makedirs(output_dir, exist_ok=True)",
    "os.makedirs(logging_dir, exist_ok=True)",
    "os.makedirs(cache_latents_dir, exist_ok=True)"
   ],
   "execution_count": null,
   "outputs": []
  },
  {
   "cell_type": "code",
   "metadata": {
    "id": "convert_ckpt"
   },
   "source": [
    "# Convert checkpoint to Diffusers format\n",
    "import os",
    "from library import sdxl_model_util",
    "",
    "ckpt = base_model_path",
    "out_dir = diff_model_path",
    "os.makedirs(out_dir, exist_ok=True)",
    "print('Converting checkpoint to Diffusers format...')",
    "text_encoder1, text_encoder2, vae, unet, _, _ = sdxl_model_util.load_models_from_sdxl_checkpoint(",
    "    sdxl_model_util.MODEL_VERSION_SDXL_BASE_V1_0, ckpt, \"cpu\")",
    "sdxl_model_util.save_diffusers_checkpoint(out_dir, text_encoder1, text_encoder2, unet, None, vae, use_safetensors=True)",
    "print('Saved Diffusers model to', out_dir)\n"
   ],
   "execution_count": null,
   "outputs": []
  },
  {
   "cell_type": "markdown",
   "metadata": {
    "id": "usquRQcLM9HZ"
   },
   "source": [
    "# \u2705  Prepare latents"
   ]
  },
  {
   "cell_type": "code",
   "metadata": {
    "id": "accelerate_config"
   },
   "source": [
    "# Setup Accelerate default configuration\n",
    "import os\n",
    "config_path = '/content/accelerate/default_config.yaml'\n",
    "os.makedirs('/content/accelerate', exist_ok=True)\n",
    "!accelerate config default --config_file $config_path\n",
    "os.environ['ACCELERATE_CONFIG_FILE'] = config_path\n",
    "print(f'Accelerate config written to {config_path}')\n"
   ],
   "execution_count": null,
   "outputs": []
  },
  {
   "cell_type": "code",
   "metadata": {
    "id": "dl_model"
   },
   "source": [
    "# Optional speed boost: Cache latents\n",
    "!ACCELERATE_CONFIG_FILE=$config_path accelerate launch --num_cpu_threads_per_process 1 tools/cache_latents.py --sdxl --pretrained_model_name_or_path=\"$diff_model_path\" --train_data_dir=\"$dataset_dir\" --resolution=\"1024,1024\" --vae_batch_size=1 --cache_latents_to_disk\n"
   ],
   "execution_count": null,
   "outputs": []
  },
  {
   "cell_type": "markdown",
   "metadata": {
    "id": "lbrTsXdAM9Ha"
   },
   "source": [
    "#\u2705 start training\n"
   ]
  },
  {
   "cell_type": "code",
   "metadata": {
    "id": "cache_latents"
   },
   "source": [
    "# Start training\n",
    "!ACCELERATE_CONFIG_FILE=$config_path accelerate launch --num_cpu_threads_per_process 1 sdxl_train.py --pretrained_model_name_or_path=\"$diff_model_path\" --train_data_dir=\"$dataset_dir\" --resolution=\"1024,1024\" --output_dir=\"$output_dir\" --logging_dir=\"$logging_dir\" --output_name=\"kmk_sdxl_finetuned\" --learning_rate=1e-4 --lr_scheduler=\"cosine_with_restarts\" --train_batch_size=1 --max_train_steps=1500 --save_every_n_steps=500 --mixed_precision=\"fp16\" --cache_latents --cache_latents_to_disk --cache_text_encoder_outputs --vae_batch_size=1 --caption_extension=\".txt\" --caption_dropout_rate=0.15 --xformers\n"
   ],
   "execution_count": null,
   "outputs": []
  },
  {
   "cell_type": "markdown",
   "metadata": {
    "id": "4A9CuGhQM9Hb"
   },
   "source": [
    "#\u2705 Check outputs"
   ]
  },
  {
   "cell_type": "code",
   "metadata": {
    "id": "params"
   },
   "source": [
    "# Check output folder contents\n",
    "import os\n",
    "\n",
    "for f in os.listdir(output_dir):\n",
    "    print(f)\n"
   ],
   "execution_count": null,
   "outputs": []
  }
 ],
 "metadata": {
  "colab": {
   "provenance": []
  },
  "kernelspec": {
   "display_name": "Python 3",
   "name": "python3"
  }
 },
 "nbformat": 4,
 "nbformat_minor": 0
}